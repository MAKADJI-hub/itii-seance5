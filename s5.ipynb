Ex1:
    
1. Ecrire une fonction qui prend en entrée une fonction f et des réels a et h et donne en sortie le taux de variation (ou d'accroissement) de la fonction f entre le point d'abscisse a+h et a.
2. Tester avec f(x)=3x^3+1x^2-5

def cal_tauxvariation(f,a,h):
    tauxvariation=(f(a+h)-f(a))/h
    return tauxvariation


from sympy.utilities.lambdify import lambdify
from sympy.abc import x, y, z

f = lambdify(x, 3*x**3 +x**2 -5)
a=0
h=1
print(cal_tauxvariation(f,a,h))

Ex2:
1. Ecrire une fonction qui calcule la liste des coefficients directeurs pour une fonction f définit sur I=[a;b] avec un pas "p"
2. Tester avec f(x)=(1+x)/(x-4) définit sur I=[0,1] avec un pas de 0.01

def coefdirecteur(fn, a, b,p):
    coef = []
    # on ajoute à la liste le coef directeur entre l'intervall avec un pas p
    for i in range(a,b,p):
        # faire un coef.push

    return coef

def fn(x):
    return (1+x)/(x-4)

coef(fn, 0, 1, 2)


Ex3:
on considère une suite U définie par Un+1=Un+n+1 et de premier terme U0. Ecrire une fonction qui prend en entrée les valeurs de n et U0 et affiche la valeur de Un.
1. De facon iterative
2. Par recurence

def calcul_suite(n, u0):

    uN = u0 + n + 1

    for i in range(10):
        uN = uN + n + 1
        print(uN)

# par recurrence

def calcul_suite_recurrence(n, uN):
    resp = uN + n + 1
    print(resp)
    return calcul_suite_recurrence(n, resp)

Ex4:
On pose Tn=n^2−(n−1)^2 ainsi que Sn=T1+T2+T3+...+Tn.
1. Etant donné n, afficher la valeur de Sn.

def T(n):
    return (n**2-((n-1)**2))

def S(n):
    res = 0
    for i in range(1, n+1):
        res = res + T(i)
    return res

S(3)

Ex5:
Soit la suite définie par Un+1=0.5.Un et de premier terme U0. Plus la valeur de n augmente, plus les valeurs de Un se rapprochent de 0.

Ecrire une fonction qui permet de déterminer pour un réel positif e donné, quel est le plus petit entier n tel que la valeur de Un soit inférieure à e.


def deter(e, u0):
    b = 1;
    un = u0
    n = 0;
    while ( b == 1 ):
        un = uN(un)
        print(un)
        if(un < e):
            b = 0
        else:
            n+=1

    return n;

def uN(un):
    return 0.5*un

deter(5, 2)

Ex6: Constante K de Catalan : https://fr.wikipedia.org/wiki/Constante_de_Catalan
Ecrire une fonction qui permet de retourner une valeur approchée de la constante K et en s’arrêtant dès que la valeur absolue de la différence entre deux somme successives devienne inférieure ou égale à une erreur epsilon donnée en paramètre.



def val_app(epsilon): 
    elm1=1
    elm2=elm1-1/(3**2)
    signe=1
    val=5
    while abs(elm2-elm1)>epsilon:
       elm1=elm2
       elm2=elm1+signe*(1/(val**2))
       val+=2
       signe*=(-1)
    return elm2
 
# tester la fonction
print(val_app(0.05))

Ex 7:
Ecrivez une fonction permettant de calculer la limite à epsilon près de la suite définie par la relation de récurrence :

U0 =2
Un+1= Un + 2/Un  , n>0.

On arrête d’itérer quand l’intervalle entre 2 termes consécutifs devient strictement inférieur à epsilon.


def limite(epsilon):
    U0 = 2
    Un = U0+2/U0
    while abs(Un-U0) > epsilon:
        U0 = Un
        Un = U0+2/U0
    return Un
 
 
print(limite(0.05))

